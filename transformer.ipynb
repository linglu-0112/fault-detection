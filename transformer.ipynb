{
 "cells": [
  {
   "cell_type": "code",
   "execution_count": 1,
   "metadata": {},
   "outputs": [],
   "source": [
    "import torch\n",
    "import torch.nn as nn\n",
    "import numpy as np\n",
    "from sklearn import preprocessing\n",
    "import math\n",
    "import numpy as np\n",
    "from numpy import linalg as LA"
   ]
  },
  {
   "cell_type": "code",
   "execution_count": null,
   "metadata": {},
   "outputs": [],
   "source": [
    "%%time\n",
    "\n",
    "# download the data here: https://doi.org/10.7910/DVN/6C3JR1\n",
    "\n",
    "direc = \"../input/tennessee-eastman-process-simulation-dataset/\"\n",
    "#direc = './'\n",
    "\n",
    "train_normal_path = direc+'TEP_FaultFree_Training.RData'\n",
    "train_faulty_path = direc+'TEP_Faulty_Training.RData'\n",
    "\n",
    "test_normal_path = direc+'TEP_FaultFree_Testing.RData'\n",
    "test_faulty_path = direc+'TEP_Faulty_Testing.RData'\n",
    "\n",
    "train_normal_complete = pyreadr.read_r(train_normal_path)['fault_free_training']\n",
    "#train_faulty_complete = pyreadr.read_r(train_fault_path)['faulty_training']\n",
    "\n",
    "#test_normal_complete = pyreadr.read_r(test_normal_path)['fault_free_testing']\n",
    "test_faulty_complete = pyreadr.read_r(test_faulty_path)['faulty_testing']\n",
    "\n",
    "cols = train_normal_complete.columns[3:]"
   ]
  },
  {
   "cell_type": "code",
   "execution_count": 4,
   "metadata": {},
   "outputs": [
    {
     "data": {
      "text/plain": [
       "(0, True)"
      ]
     },
     "execution_count": 4,
     "metadata": {},
     "output_type": "execute_result"
    }
   ],
   "source": [
    "torch.cuda.current_device(),torch.cuda.is_available()"
   ]
  },
  {
   "cell_type": "code",
   "execution_count": 86,
   "metadata": {},
   "outputs": [
    {
     "data": {
      "text/plain": [
       "(49920,)"
      ]
     },
     "execution_count": 86,
     "metadata": {},
     "output_type": "execute_result"
    }
   ],
   "source": [
    "data = np.fromfile('./data/d00.dat', dtype=np.float32, sep='   ')\n",
    "data.shape"
   ]
  },
  {
   "cell_type": "code",
   "execution_count": 80,
   "metadata": {},
   "outputs": [
    {
     "data": {
      "text/plain": [
       "960.0"
      ]
     },
     "execution_count": 80,
     "metadata": {},
     "output_type": "execute_result"
    }
   ],
   "source": [
    "49920/52"
   ]
  },
  {
   "cell_type": "code",
   "execution_count": 81,
   "metadata": {},
   "outputs": [],
   "source": [
    "def read_data(error=0, unit=[0], is_train=True):\n",
    "    \"\"\"\n",
    "    Args:p\n",
    "        error (int): The index of error, 0 means normal data\n",
    "        is_train (bool): Read train or test data\n",
    "    Returns:\n",
    "        units' data\n",
    "    \"\"\"\n",
    "\n",
    "    if is_train:\n",
    "        suffix = '.dat'\n",
    "    else:\n",
    "        suffix = '_te.dat'\n",
    "    fi = './data/d{:02d}{}'.format(error, suffix)\n",
    "    data = np.fromfile(fi, dtype=np.float32, sep='   ')\n",
    "\n",
    "    if fi == './data/d00.dat':\n",
    "        # data = data.reshape(-1, 500).T\n",
    "        data = data.reshape(-1, 52)\n",
    "        data = data[:, unit]  #获取特定列的元素\n",
    "    else:\n",
    "        data = data.reshape(-1, 52)\n",
    "        data = data[:, unit]\n",
    "    # if not is_train:\n",
    "    #     data = data[160: ]\n",
    "    return data, np.ones(data.shape[0], np.float32) * error  #获取数据以及标签"
   ]
  },
  {
   "cell_type": "code",
   "execution_count": 32,
   "metadata": {},
   "outputs": [],
   "source": [
    "def get_train_data(unit):\n",
    "    train_data, _ = read_data(error=0, unit=unit, is_train=True)\n",
    "    train_data = preprocessing.StandardScaler().fit_transform(train_data)\n",
    "    return train_data  #训练数据归一化"
   ]
  },
  {
   "cell_type": "code",
   "execution_count": 33,
   "metadata": {},
   "outputs": [],
   "source": [
    "def get_test_data(unit):\n",
    "    test_data = []\n",
    "    for i in range(22):\n",
    "        data, _ = read_data(error=i, unit=unit, is_train=False)\n",
    "        test_data.append(data)\n",
    "    test_data = np.concatenate(test_data) #拉成长度为[22*960,unit_size]\n",
    "    train_data, _ = read_data(error=0, unit=unit, is_train=True)\n",
    "    scaler = preprocessing.StandardScaler().fit(train_data)\n",
    "    return test_data  "
   ]
  },
  {
   "cell_type": "code",
   "execution_count": 34,
   "metadata": {},
   "outputs": [
    {
     "data": {
      "text/plain": [
       "(960, 4)"
      ]
     },
     "execution_count": 34,
     "metadata": {},
     "output_type": "execute_result"
    }
   ],
   "source": [
    "test = get_test_data([0,1,2,3])\n",
    "test.shape"
   ]
  },
  {
   "attachments": {},
   "cell_type": "markdown",
   "metadata": {},
   "source": [
    "## global-local-transformer-model"
   ]
  },
  {
   "cell_type": "code",
   "execution_count": 35,
   "metadata": {},
   "outputs": [],
   "source": [
    "class EmbedddingModel(nn.Module):\n",
    "    def __init__(self, unit_len=[]):\n",
    "        super(EmbedddingModel, self).__init__()\n",
    "        self.unit_len1 = unit_len[0]\n",
    "        self.unit_len2 = unit_len[1]\n",
    "        self.unit_len3 = unit_len[2]\n",
    "        self.unit_len4 = unit_len[3]\n",
    "        self.unit_len5 = unit_len[4]\n",
    "\n",
    "        self.embed1 = nn.Sequential(\n",
    "            nn.Linear(self.unit_len1, 64, bias=True),\n",
    "            nn.ReLU(),\n",
    "            nn.BatchNorm1d(64),\n",
    "            nn.Linear(64, 16, bias=True)\n",
    "        )\n",
    "        self.nonlinear1 = nn.Sequential(\n",
    "            nn.ReLU(),\n",
    "            nn.BatchNorm1d(16),\n",
    "            nn.Linear(16, 64, bias=True)\n",
    "        )\n",
    "\n",
    "        self.embed2 = nn.Sequential(\n",
    "            nn.Linear(self.unit_len2, 64, bias=True),\n",
    "            nn.ReLU(),\n",
    "            nn.BatchNorm1d(64),\n",
    "            nn.Linear(64, 16, bias=True)\n",
    "        )\n",
    "        self.nonlinear2 = nn.Sequential(\n",
    "            nn.ReLU(),\n",
    "            nn.BatchNorm1d(16),\n",
    "            nn.Linear(16, 64, bias=True)\n",
    "        )\n",
    "\n",
    "        self.embed3 = nn.Sequential(\n",
    "            nn.Linear(self.unit_len3, 64, bias=True),\n",
    "            nn.ReLU(),\n",
    "            nn.BatchNorm1d(64),\n",
    "             \n",
    "            nn.Linear(64, 16, bias=True)\n",
    "        )\n",
    "        self.nonlinear3 = nn.Sequential(\n",
    "            nn.ReLU(),\n",
    "            nn.BatchNorm1d(16),\n",
    "            nn.Linear(16, 64, bias=True)\n",
    "        )\n",
    "\n",
    "        self.embed4 = nn.Sequential(\n",
    "            nn.Linear(self.unit_len4, 64, bias=True),\n",
    "            nn.ReLU(),\n",
    "            nn.BatchNorm1d(64),\n",
    "              \n",
    "            nn.Linear(64, 16, bias=True)\n",
    "        )\n",
    "        self.nonlinear4 = nn.Sequential(\n",
    "            nn.ReLU(),\n",
    "            nn.BatchNorm1d(16),\n",
    "            nn.Linear(16, 64, bias=True)\n",
    "        )\n",
    "\n",
    "        self.embed5 = nn.Sequential(\n",
    "            nn.Linear(self.unit_len5, 64, bias=True),\n",
    "            nn.ReLU(),\n",
    "            nn.BatchNorm1d(64),\n",
    "              \n",
    "            nn.Linear(64, 16, bias=True)\n",
    "        )\n",
    "        self.nonlinear5 = nn.Sequential(\n",
    "            nn.ReLU(),\n",
    "            nn.BatchNorm1d(16),\n",
    "            nn.Linear(16, 64, bias=True)\n",
    "        )\n",
    "        \n",
    "    def forward(self, x1, x2, x3, x4, x5):\n",
    "        h1 = self.embed1(x1)\n",
    "        y1 = self.nonlinear1(h1)\n",
    "        h2 = self.embed2(x2)\n",
    "        y2 = self.nonlinear2(h2)\n",
    "        h3 = self.embed3(x3)\n",
    "        y3 = self.nonlinear3(h3)\n",
    "        h4 = self.embed4(x4)\n",
    "        y4 = self.nonlinear4(h4)\n",
    "        h5 = self.embed5(x5)\n",
    "        y5 = self.nonlinear5(h5)\n",
    "        hidden_state = torch.cat((h1, h2, h3, h4, h5), dim=1)  \n",
    "        src = torch.stack((y1, y2, y3, y4, y5), dim=0)  \n",
    "        return hidden_state, src"
   ]
  },
  {
   "cell_type": "code",
   "execution_count": 36,
   "metadata": {},
   "outputs": [],
   "source": [
    "T1 = torch.tensor([[1, 2, 3],\n",
    "        \t\t[4, 5, 6],\n",
    "        \t\t[7, 8, 9]])\n",
    "T2 = torch.tensor([[10, 20, 30],\n",
    "        \t\t[40, 50, 60],\n",
    "        \t\t[70, 80, 90]])"
   ]
  },
  {
   "cell_type": "code",
   "execution_count": 37,
   "metadata": {},
   "outputs": [
    {
     "data": {
      "text/plain": [
       "tensor([[[ 1,  2,  3],\n",
       "         [10, 20, 30]],\n",
       "\n",
       "        [[ 4,  5,  6],\n",
       "         [40, 50, 60]],\n",
       "\n",
       "        [[ 7,  8,  9],\n",
       "         [70, 80, 90]]])"
      ]
     },
     "execution_count": 37,
     "metadata": {},
     "output_type": "execute_result"
    }
   ],
   "source": [
    "y = torch.stack((T1,T2),dim=1)\n",
    "\n",
    "y"
   ]
  },
  {
   "cell_type": "code",
   "execution_count": 38,
   "metadata": {},
   "outputs": [],
   "source": [
    "class TransformerModel(nn.Module):\n",
    "    def __init__(self):\n",
    "        super(TransformerModel, self).__init__()\n",
    "        self.embed = EmbedddingModel([8, 7, 6, 7, 5])\n",
    "        self.encoder_layer = nn.TransformerEncoderLayer(d_model=64, nhead=8, dim_feedforward=1024, dropout=0.01,\n",
    "                                                        activation=\"relu\")\n",
    "        self.encoder = nn.TransformerEncoder(self.encoder_layer, num_layers=6)\n",
    "        self.avg1 = nn.Linear(64, 4)\n",
    "        self.linear1 = nn.Linear(4, 8, bias=True)\n",
    "        self.linear2 = nn.Linear(4, 7, bias=True)\n",
    "        self.linear3 = nn.Linear(4, 6, bias=True)\n",
    "        self.linear4 = nn.Linear(4, 7, bias=True)\n",
    "        self.linear5 = nn.Linear(4, 5, bias=True)\n",
    "\n",
    "\n",
    "    def forward(self, x1, x2, x3, x4, x5):\n",
    "        hidden_state, src = self.embed(x1, x2, x3, x4, x5)\n",
    "        memory = self.encoder(src)  \n",
    "        memory = self.avg1(memory.permute(1, 0, 2)) # torch.permute()进行维度换位\n",
    "        memory = memory.permute(1, 0, 2)  \n",
    "        hidden_fea1, hidden_fea2, hidden_fea3, hidden_fea4, hidden_fea5 = torch.chunk(memory, 8, dim=0) #(1,500,4)\n",
    "        hidden_fea1 = torch.squeeze(hidden_fea1)  \n",
    "        hidden_fea2 = torch.squeeze(hidden_fea2)\n",
    "        hidden_fea3 = torch.squeeze(hidden_fea3)\n",
    "        hidden_fea4 = torch.squeeze(hidden_fea4)\n",
    "        hidden_fea5 = torch.squeeze(hidden_fea5)\n",
    "        out = torch.cat((hidden_fea1, hidden_fea2, hidden_fea3, hidden_fea4, hidden_fea5),dim=1) #全局特征(500,20)\n",
    "        fea1 = self.linear1(hidden_fea1) \n",
    "        fea2 = self.linear2(hidden_fea2)\n",
    "        fea3 = self.linear3(hidden_fea3)\n",
    "        fea4 = self.linear4(hidden_fea4)\n",
    "        fea5 = self.linear5(hidden_fea5)\n",
    "        decoder_out = torch.cat((fea1, fea2, fea3, fea4, fea5), dim=1) \n",
    "        return decoder_out, out, hidden_state"
   ]
  },
  {
   "cell_type": "code",
   "execution_count": 39,
   "metadata": {},
   "outputs": [
    {
     "data": {
      "text/plain": [
       "torch.Size([4, 2, 3])"
      ]
     },
     "execution_count": 39,
     "metadata": {},
     "output_type": "execute_result"
    }
   ],
   "source": [
    "position = torch.randn(2,4,3)\n",
    "position = position.permute(1,0,2)\n",
    "position.shape"
   ]
  },
  {
   "cell_type": "code",
   "execution_count": 40,
   "metadata": {},
   "outputs": [],
   "source": [
    "class PositionalEncoding(nn.Module):\n",
    "    #Implement the PE function\n",
    "\n",
    "    def __init__(self, max_len, d_model ):\n",
    "        super(PositionalEncoding, self).__init__()\n",
    "\n",
    "        # Compute the positional encodings once in log space.\n",
    "        if d_model%2 ==0:\n",
    "            pe = torch.zeros(max_len, d_model)\n",
    "            position = torch.arange(0, max_len).unsqueeze(1) #在维度1上增加一个维度,变成2维\n",
    "            div_term = torch.exp(torch.arange(0, d_model, 2) *\n",
    "                                -(math.log(10000.0) / d_model))\n",
    "            pe[:, 0::2] = torch.sin(position * div_term)  #传统SCPE公式\n",
    "            pe[:, 1::2] = torch.cos(position * div_term)\n",
    "            pe = pe.unsqueeze(0)\n",
    "        if d_model%2 ==1:\n",
    "            pe = torch.zeros(max_len, d_model+1)\n",
    "            position = torch.arange(0, max_len).unsqueeze(1)\n",
    "            div_term = torch.exp(torch.arange(0, d_model, 2) *\n",
    "                                -(math.log(10000.0) / d_model))\n",
    "            pe[:, 0::2] = torch.sin(position * div_term)\n",
    "            pe[:, 1::2] = torch.cos(position * div_term)\n",
    "            pe = pe[:,:d_model]\n",
    "            pe = pe.unsqueeze(0)\n",
    "        self.register_buffer('pe', pe)\n",
    "\n",
    "    def forward(self, x):\n",
    "        x = torch.permute(x,(1,0,2)) \n",
    "        z = self.pe[:, :x.size(1)].clone().detach()\n",
    "        x = x + z     #对x进行位置编码\n",
    "        return x.permute(1,0,2)"
   ]
  },
  {
   "cell_type": "code",
   "execution_count": 41,
   "metadata": {},
   "outputs": [
    {
     "name": "stdout",
     "output_type": "stream",
     "text": [
      "\u001b[1;31mDocstring:\u001b[0m\n",
      "chunk(input, chunks, dim=0) -> List of Tensors\n",
      "\n",
      "Attempts to split a tensor into the specified number of chunks. Each chunk is a view of\n",
      "the input tensor.\n",
      "\n",
      "\n",
      ".. note::\n",
      "\n",
      "    This function may return less then the specified number of chunks!\n",
      "\n",
      ".. seealso::\n",
      "\n",
      "    :func:`torch.tensor_split` a function that always returns exactly the specified number of chunks\n",
      "\n",
      "If the tensor size along the given dimesion :attr:`dim` is divisible by :attr:`chunks`,\n",
      "all returned chunks will be the same size.\n",
      "If the tensor size along the given dimension :attr:`dim` is not divisible by :attr:`chunks`,\n",
      "all returned chunks will be the same size, except the last one.\n",
      "If such division is not possible, this function may return less\n",
      "than the specified number of chunks.\n",
      "\n",
      "Arguments:\n",
      "    input (Tensor): the tensor to split\n",
      "    chunks (int): number of chunks to return\n",
      "    dim (int): dimension along which to split the tensor\n",
      "\n",
      "Example::\n",
      "    >>> torch.arange(11).chunk(6)\n",
      "    (tensor([0, 1]),\n",
      "     tensor([2, 3]),\n",
      "     tensor([4, 5]),\n",
      "     tensor([6, 7]),\n",
      "     tensor([8, 9]),\n",
      "     tensor([10]))\n",
      "    >>> torch.arange(12).chunk(6)\n",
      "    (tensor([0, 1]),\n",
      "     tensor([2, 3]),\n",
      "     tensor([4, 5]),\n",
      "     tensor([6, 7]),\n",
      "     tensor([8, 9]),\n",
      "     tensor([10, 11]))\n",
      "    >>> torch.arange(13).chunk(6)\n",
      "    (tensor([0, 1, 2]),\n",
      "     tensor([3, 4, 5]),\n",
      "     tensor([6, 7, 8]),\n",
      "     tensor([ 9, 10, 11]),\n",
      "     tensor([12]))\n",
      "\u001b[1;31mType:\u001b[0m      builtin_function_or_method\n"
     ]
    }
   ],
   "source": [
    "? torch.chunk"
   ]
  },
  {
   "cell_type": "code",
   "execution_count": 42,
   "metadata": {},
   "outputs": [],
   "source": [
    "class TransformerPe(nn.Module):\n",
    "    def __init__(self):\n",
    "        super(TransformerPe, self).__init__()\n",
    "        self.embed = EmbedddingModel([8, 7, 6, 7, 5])\n",
    "        self.PE = PositionalEncoding(5, 5)\n",
    "        self.encoder_layer = nn.TransformerEncoderLayer(d_model=69, nhead=3, dim_feedforward=1024, dropout=0.01,\n",
    "                                                        activation=\"relu\")                                          #注意d_model和nhead的维度一致\n",
    "        self.encoder = nn.TransformerEncoder(self.encoder_layer, num_layers=6)\n",
    "        self.avg1 = nn.Linear(69, 4)\n",
    "        self.linear1 = nn.Linear(4, 8, bias=True)\n",
    "        self.linear2 = nn.Linear(4, 7, bias=True)\n",
    "        self.linear3 = nn.Linear(4, 6, bias=True)\n",
    "        self.linear4 = nn.Linear(4, 7, bias=True)\n",
    "        self.linear5 = nn.Linear(4, 5, bias=True)\n",
    "\n",
    "\n",
    "    def forward(self, x1, x2, x3, x4, x5):\n",
    "        hidden_state, src = self.embed(x1, x2, x3, x4, x5)\n",
    "        src_pe = self.PE(src)\n",
    "        memory = self.encoder(src_pe) #(5,500,128)\n",
    "        memory = self.avg1(memory.permute(1, 0, 2))\n",
    "        memory = memory.permute(1, 0, 2)\n",
    "        hidden_fea1, hidden_fea2, hidden_fea3, hidden_fea4, hidden_fea5 = torch.chunk(memory, 8, dim=0)\n",
    "        hidden_fea1 = torch.squeeze(hidden_fea1)\n",
    "        hidden_fea2 = torch.squeeze(hidden_fea2)\n",
    "        hidden_fea3 = torch.squeeze(hidden_fea3)\n",
    "        hidden_fea4 = torch.squeeze(hidden_fea4)\n",
    "        hidden_fea5 = torch.squeeze(hidden_fea5)\n",
    "        out = torch.cat((hidden_fea1, hidden_fea2, hidden_fea3, hidden_fea4, hidden_fea5),dim=1) #全局特征\n",
    "        fea1 = self.linear1(hidden_fea1)\n",
    "        fea2 = self.linear2(hidden_fea2)\n",
    "        fea3 = self.linear3(hidden_fea3)\n",
    "        fea4 = self.linear4(hidden_fea4)\n",
    "        fea5 = self.linear5(hidden_fea5)\n",
    "        decoder_out = torch.cat((fea1, fea2, fea3, fea4, fea5), dim=1) #重构输出\n",
    "        return decoder_out, out, hidden_state"
   ]
  },
  {
   "cell_type": "code",
   "execution_count": 43,
   "metadata": {},
   "outputs": [],
   "source": [
    "class OPE(nn.Module):\n",
    "    #Implement the OPE function\n",
    "\n",
    "    def __init__(self, max_len, d_model ):\n",
    "        super(OPE, self).__init__()\n",
    "\n",
    "        c = np.zeros((d_model, d_model))\n",
    "        for i in range(d_model):\n",
    "            for j in range(d_model):\n",
    "                c[i,j] = 0.9**np.abs(i-j)\n",
    "        np.set_printoptions(precision=4)\n",
    "        w, v = LA.eig(c)\n",
    "        pe = np.zeros((max_len, d_model-1))\n",
    "        for i in range(max_len):\n",
    "            pe[i,:] = v[i,1:]    \n",
    "        pe = torch.unsqueeze(torch.from_numpy(pe),0) \n",
    "        self.register_buffer('pe', pe)\n",
    "\n",
    "    def forward(self, x):\n",
    "        x = torch.permute(x,(1,0,2)) \n",
    "        z = self.pe[:, :x.size(1)].clone().detach()\n",
    "        x = x + z      \n",
    "        return x.permute(1,0,2).to(torch.float32)  #(5,500,128)"
   ]
  },
  {
   "cell_type": "code",
   "execution_count": 44,
   "metadata": {},
   "outputs": [],
   "source": [
    "class TransformerPE(nn.Module):\n",
    "    def __init__(self):\n",
    "        super(TransformerPE, self).__init__()\n",
    "        self.embed = EmbedddingModel([8, 7, 6, 7, 5])\n",
    "        self.PE = OPE(5, 65)\n",
    "        self.encoder_layer = nn.TransformerEncoderLayer(d_model=64, nhead=8, dim_feedforward=1024, dropout=0.01,\n",
    "                                                        activation=\"relu\")                                          #注意d_model和nhead的维度一致\n",
    "        self.encoder = nn.TransformerEncoder(self.encoder_layer, num_layers=6)\n",
    "        self.avg1 = nn.Linear(64, 4)\n",
    "        self.linear1 = nn.Linear(4, 8, bias=True)\n",
    "        self.linear2 = nn.Linear(4, 7, bias=True)\n",
    "        self.linear3 = nn.Linear(4, 6, bias=True)\n",
    "        self.linear4 = nn.Linear(4, 7, bias=True)\n",
    "        self.linear5 = nn.Linear(4, 5, bias=True)\n",
    "\n",
    "\n",
    "    def forward(self, x1, x2, x3, x4, x5):\n",
    "        hidden_state, src = self.embed(x1, x2, x3, x4, x5)\n",
    "        src_pe = self.PE(src)\n",
    "        memory = self.encoder(src_pe) #(5,500,128)\n",
    "        memory = self.avg1(memory.permute(1, 0, 2))\n",
    "        memory = memory.permute(1, 0, 2)\n",
    "        hidden_fea1, hidden_fea2, hidden_fea3, hidden_fea4, hidden_fea5 = torch.chunk(memory, 8, dim=0)\n",
    "        hidden_fea1 = torch.squeeze(hidden_fea1)\n",
    "        hidden_fea2 = torch.squeeze(hidden_fea2)\n",
    "        hidden_fea3 = torch.squeeze(hidden_fea3)\n",
    "        hidden_fea4 = torch.squeeze(hidden_fea4)\n",
    "        hidden_fea5 = torch.squeeze(hidden_fea5)\n",
    "        out = torch.cat((hidden_fea1, hidden_fea2, hidden_fea3, hidden_fea4, hidden_fea5),dim=1) \n",
    "        fea1 = self.linear1(hidden_fea1)\n",
    "        fea2 = self.linear2(hidden_fea2)\n",
    "        fea3 = self.linear3(hidden_fea3)\n",
    "        fea4 = self.linear4(hidden_fea4)\n",
    "        fea5 = self.linear5(hidden_fea5)\n",
    "        decoder_out = torch.cat((fea1, fea2, fea3, fea4, fea5), dim=1) \n",
    "        return decoder_out, out, hidden_state"
   ]
  },
  {
   "attachments": {},
   "cell_type": "markdown",
   "metadata": {},
   "source": [
    "### 训练"
   ]
  },
  {
   "cell_type": "code",
   "execution_count": 45,
   "metadata": {},
   "outputs": [],
   "source": [
    "import time\n",
    "import os\n",
    "import torch\n",
    "import torch.nn as nn\n",
    "from torch import optim\n",
    "from torch.optim import lr_scheduler\n",
    "# from model import TransformerPE\n",
    "# from utils import get_train_data, get_test_data\n",
    "import scipy.io as sio\n",
    "import matplotlib.pyplot as plt\n",
    "import numpy as np\n",
    "import random\n",
    "import torch.nn.functional as F"
   ]
  },
  {
   "attachments": {},
   "cell_type": "markdown",
   "metadata": {},
   "source": []
  },
  {
   "cell_type": "code",
   "execution_count": 71,
   "metadata": {},
   "outputs": [],
   "source": [
    "def train():\n",
    "    model = TransformerPE()\n",
    "    model.to(device)\n",
    "    Epoch = 1800\n",
    "    optimizer = optim.Adam(model.parameters(), lr=0.002, betas=(0.9, 0.99), eps=1e-08, weight_decay=0.0001)  # alt+enter\n",
    "    scheduler = lr_scheduler.MultiStepLR(optimizer, [500], 0.5)\n",
    "    criterion = nn.MSELoss()\n",
    "    model.train()\n",
    "    epoches = []\n",
    "    train_loss = []\n",
    "    test_loss = []\n",
    "\n",
    "    for epoch in range(Epoch):\n",
    "        running_loss = 0.0\n",
    "        optimizer.zero_grad()\n",
    "        decoder_out, out, _ = model(train_data_unit1, train_data_unit2, train_data_unit3, train_data_unit4,train_data_unit5)\n",
    "        loss = criterion(decoder_out, train_data)\n",
    "        loss.backward()\n",
    "        optimizer.step()\n",
    "        scheduler.step()\n",
    "        running_loss += loss.item()\n",
    "\n",
    "        if (epoch + 1) % 50 == 0:\n",
    "            print('epoch_{}'.format(epoch+1))\n",
    "            print('training_loss:{}'.format(running_loss))\n",
    "            epoches.append(epoch)\n",
    "            train_loss.append(running_loss)\n",
    "            #保存模型参数\n",
    "            base_path = \"./TE/model/\"\n",
    "            if not os.path.exists(base_path):\n",
    "                os.makedirs(base_path)\n",
    "            torch.save(model.state_dict(),os.path.join(base_path, \"transformer_para_{}\".format(epoch + 1)))\n",
    "            # model.load_state_dict(\n",
    "            #     torch.load(os.path.join(base_path, \"transformer_para_{}\".format(epoch + 1))))\n",
    "            \n",
    "            model.eval()\n",
    "            running_loss_0 = 0.0\n",
    "            with torch.no_grad():\n",
    "                decoder_out, out, hidden_state = model(test_data_unit1, test_data_unit2, test_data_unit3, test_data_unit4, test_data_unit5)\n",
    "                loss = criterion(decoder_out, test_data)\n",
    "                running_loss_0 += loss.item()\n",
    "                test_loss.append(running_loss_0)\n",
    "                print('testing_loss:{}'.format(loss))\n",
    "                \n",
    "            global_fea = out.detach().cpu().numpy()\n",
    "            local_fea = hidden_state.detach().cpu().numpy()\n",
    "            #print(local_fea.shape),(21120,128)\n",
    "            mat1 = {'fea_test': global_fea.T}\n",
    "            mat2 = {'fea_test': local_fea.T}\n",
    "            save_path = \"./TE/feature/\"\n",
    "            if not os.path.exists(save_path):\n",
    "                os.makedirs(save_path)\n",
    "            sio.savemat(os.path.join(save_path,\"fea_glo_{}.mat\".format(epoch + 1)), mat1)\n",
    "            sio.savemat(os.path.join(save_path,\"fea_loc_{}.mat\".format(epoch + 1)), mat2)\n",
    "            # print(\"testing is finished!\")\n",
    "\n",
    "\n",
    "    print(\"time span: %.4f s\" % (time.time() - start))\n",
    "    # plt.plot(epoches, train_loss, color='r', label='train loss')\n",
    "    plt.figure()\n",
    "    plt.plot(epoches, test_loss, color='b', label='test loss')\n",
    "    plt.figure()\n",
    "    plt.plot(epoches, train_loss, color='r', label='train_loss')\n",
    "    plt.ylabel('loss')\n",
    "    plt.xlabel('epoch')\n",
    "    plt.legend(loc=\"best\")\n",
    "    plt.show()"
   ]
  },
  {
   "cell_type": "code",
   "execution_count": 72,
   "metadata": {},
   "outputs": [],
   "source": [
    "def test():\n",
    "    model = TransformerPE()\n",
    "    model.to(device)\n",
    "\n",
    "    base_path = \"./TE/model/\"\n",
    "    model.load_state_dict(\n",
    "        torch.load(os.path.join(base_path, \"transformer_para_{}\".format(1800))))\n",
    "    # model.load_state_dict(torch.load(\"./TE/transformer_para_1800\"))\n",
    "    model.eval()\n",
    "\n",
    "    with torch.no_grad():\n",
    "        decoder_out, out, hidden_state = model(test_data_unit1, test_data_unit2, test_data_unit3, test_data_unit4, test_data_unit5)\n",
    "        n = decoder_out - test_data\n",
    " \n",
    "        \n",
    "    global_fea = out.detach().cpu().numpy()\n",
    "    local_fea = hidden_state.detach().cpu().numpy()\n",
    "    res = n.detach().cpu().numpy()\n",
    "\n",
    "    mat1 = {'fea_test': global_fea.T}\n",
    "    mat2 = {'fea_test': local_fea.T}\n",
    "    mat3 = {'res_test': res.T}\n",
    "\n",
    "\n",
    "    save_path = \"./TE/feature/222/\"\n",
    "    if not os.path.exists(save_path):\n",
    "        os.makedirs(save_path)\n",
    "    sio.savemat(os.path.join(save_path,\"fea_glo.mat\"), mat1)\n",
    "    sio.savemat(os.path.join(save_path,\"fea_loc.mat\"), mat2)\n",
    "    sio.savemat(os.path.join(save_path,\"res.mat\"), mat3)\n",
    "  \n",
    "    print('finishing!')"
   ]
  },
  {
   "cell_type": "code",
   "execution_count": 82,
   "metadata": {},
   "outputs": [],
   "source": [
    "if __name__ == '__main__':\n",
    "    start = time.time()\n",
    "\n",
    "    unit1 = [0, 1, 2, 3, 41, 42, 43, 44]\n",
    "    unit2 = [5, 6, 7, 8, 20, 50, 51]\n",
    "    unit3 = [10, 11, 12, 13, 21, 47]\n",
    "    unit4 = [14, 15, 16, 17, 18, 48, 49]\n",
    "    unit5 = [4, 9, 19, 45, 46]\n",
    "    unit_list = [unit1, unit2, unit3, unit4, unit5]\n",
    "    unit_variables = unit1+unit2+unit3+unit4+unit5\n",
    "    unit_variables = [i+1 for i in unit_variables]\n",
    "    unit_len = [8, 7, 6, 7, 5]\n",
    "\n",
    "    train_data_unit1 = get_train_data(unit1)\n",
    "    train_data_unit1 = torch.from_numpy(train_data_unit1)\n",
    "    train_data_unit2 = get_train_data(unit2)\n",
    "    train_data_unit2 = torch.from_numpy(train_data_unit2)\n",
    "    train_data_unit3 = get_train_data(unit3)\n",
    "    train_data_unit3 = torch.from_numpy(train_data_unit3)\n",
    "    train_data_unit4 = get_train_data(unit4)\n",
    "    train_data_unit4 = torch.from_numpy(train_data_unit4)\n",
    "    train_data_unit5 = get_train_data(unit5)\n",
    "    train_data_unit5 = torch.from_numpy(train_data_unit5)\n",
    "    train_data = torch.cat((train_data_unit1, train_data_unit2, train_data_unit3, train_data_unit4, train_data_unit5),dim=1)\n",
    "\n",
    "    test_data_unit1 = get_test_data(unit1)\n",
    "    test_data_unit1 = torch.from_numpy(test_data_unit1)\n",
    "    test_data_unit2 = get_test_data(unit2)\n",
    "    test_data_unit2 = torch.from_numpy(test_data_unit2)\n",
    "    test_data_unit3 = get_test_data(unit3)\n",
    "    test_data_unit3 = torch.from_numpy(test_data_unit3)\n",
    "    test_data_unit4 = get_test_data(unit4)\n",
    "    test_data_unit4 = torch.from_numpy(test_data_unit4)\n",
    "    test_data_unit5 = get_test_data(unit5)\n",
    "    test_data_unit5 = torch.from_numpy(test_data_unit5)\n",
    "    test_data = torch.cat((test_data_unit1, test_data_unit2, test_data_unit3, test_data_unit4, test_data_unit5),dim=1)\n",
    "\n",
    "    device = torch.device(\"cuda:0\" if torch.cuda.is_available() else \"cpu\")\n",
    "    train_data = train_data.to(device)\n",
    "    train_data_unit1 = train_data_unit1.to(device)\n",
    "    train_data_unit2 = train_data_unit2.to(device)\n",
    "    train_data_unit3 = train_data_unit3.to(device)\n",
    "    train_data_unit4 = train_data_unit4.to(device)\n",
    "    train_data_unit5 = train_data_unit5.to(device)\n",
    "\n",
    "    test_data = test_data.to(device)\n",
    "    test_data_unit1 = test_data_unit1.to(device)\n",
    "    test_data_unit2 = test_data_unit2.to(device)\n",
    "    test_data_unit3 = test_data_unit3.to(device)\n",
    "    test_data_unit4 = test_data_unit4.to(device)\n",
    "    test_data_unit5 = test_data_unit5.to(device)\n",
    "\n",
    "    "
   ]
  },
  {
   "cell_type": "code",
   "execution_count": 84,
   "metadata": {},
   "outputs": [
    {
     "name": "stdout",
     "output_type": "stream",
     "text": [
      "epoch_50\n",
      "training_loss:0.6895923614501953\n",
      "testing_loss:1102277.875\n",
      "epoch_100\n",
      "training_loss:0.41996943950653076\n",
      "testing_loss:1101868.375\n",
      "epoch_150\n",
      "training_loss:0.24827080965042114\n",
      "testing_loss:1101889.5\n",
      "epoch_200\n",
      "training_loss:0.18639397621154785\n",
      "testing_loss:1101895.75\n",
      "epoch_250\n",
      "training_loss:0.15197598934173584\n",
      "testing_loss:1101927.375\n",
      "epoch_300\n",
      "training_loss:0.14125092327594757\n",
      "testing_loss:1101855.25\n",
      "epoch_350\n",
      "training_loss:0.13424722850322723\n",
      "testing_loss:1101807.125\n",
      "epoch_400\n",
      "training_loss:0.1345810443162918\n",
      "testing_loss:1101789.25\n",
      "epoch_450\n",
      "training_loss:0.13104723393917084\n",
      "testing_loss:1101764.875\n",
      "epoch_500\n",
      "training_loss:0.1313045471906662\n",
      "testing_loss:1101754.0\n",
      "epoch_550\n",
      "training_loss:0.12981343269348145\n",
      "testing_loss:1101797.875\n",
      "epoch_600\n",
      "training_loss:0.12960907816886902\n",
      "testing_loss:1101832.375\n",
      "epoch_650\n",
      "training_loss:0.1294720321893692\n",
      "testing_loss:1101843.375\n",
      "epoch_700\n",
      "training_loss:0.13005316257476807\n",
      "testing_loss:1101857.0\n",
      "epoch_750\n",
      "training_loss:0.12933850288391113\n",
      "testing_loss:1101873.375\n",
      "epoch_800\n",
      "training_loss:0.1291152834892273\n",
      "testing_loss:1101891.5\n",
      "epoch_850\n",
      "training_loss:0.12893550097942352\n",
      "testing_loss:1101899.375\n",
      "epoch_900\n",
      "training_loss:0.13010293245315552\n",
      "testing_loss:1101910.125\n",
      "epoch_950\n",
      "training_loss:0.1290970742702484\n",
      "testing_loss:1101918.125\n",
      "epoch_1000\n",
      "training_loss:0.1301146298646927\n",
      "testing_loss:1101929.25\n",
      "epoch_1050\n",
      "training_loss:0.12990716099739075\n",
      "testing_loss:1101935.75\n",
      "epoch_1100\n",
      "training_loss:0.12873737514019012\n",
      "testing_loss:1101937.125\n",
      "epoch_1150\n",
      "training_loss:0.12890754640102386\n",
      "testing_loss:1101936.75\n",
      "epoch_1200\n",
      "training_loss:0.1286894828081131\n",
      "testing_loss:1101941.25\n",
      "epoch_1250\n",
      "training_loss:0.12876878678798676\n",
      "testing_loss:1101946.875\n",
      "epoch_1300\n",
      "training_loss:0.12875793874263763\n",
      "testing_loss:1101942.875\n",
      "epoch_1350\n",
      "training_loss:0.12878116965293884\n",
      "testing_loss:1101945.375\n",
      "epoch_1400\n",
      "training_loss:0.13027073442935944\n",
      "testing_loss:1101944.125\n",
      "epoch_1450\n",
      "training_loss:0.12924377620220184\n",
      "testing_loss:1101936.625\n",
      "epoch_1500\n",
      "training_loss:0.12908343970775604\n",
      "testing_loss:1101938.375\n",
      "epoch_1550\n",
      "training_loss:0.128650963306427\n",
      "testing_loss:1101935.375\n",
      "epoch_1600\n",
      "training_loss:0.12902574241161346\n",
      "testing_loss:1101928.25\n",
      "epoch_1650\n",
      "training_loss:0.12871263921260834\n",
      "testing_loss:1101926.625\n",
      "epoch_1700\n",
      "training_loss:0.12908922135829926\n",
      "testing_loss:1101923.75\n",
      "epoch_1750\n",
      "training_loss:0.12903180718421936\n",
      "testing_loss:1101921.25\n",
      "epoch_1800\n",
      "training_loss:0.1299479603767395\n",
      "testing_loss:1101915.0\n",
      "time span: 108.0152 s\n"
     ]
    },
    {
     "data": {
      "image/png": "[encoded data removed]",
      "text/plain": [
       "<Figure size 432x288 with 1 Axes>"
      ]
     },
     "metadata": {
      "needs_background": "light"
     },
     "output_type": "display_data"
    },
    {
     "data": {
      "image/png": "[encoded data removed]",
      "text/plain": [
       "<Figure size 432x288 with 1 Axes>"
      ]
     },
     "metadata": {
      "needs_background": "light"
     },
     "output_type": "display_data"
    }
   ],
   "source": [
    "train()\n",
    "test()"
   ]
  },
  {
   "cell_type": "code",
   "execution_count": 85,
   "metadata": {},
   "outputs": [
    {
     "data": {
      "text/plain": [
       "torch.Size([500, 33])"
      ]
     },
     "execution_count": 85,
     "metadata": {},
     "output_type": "execute_result"
    }
   ],
   "source": [
    "test_data.shape"
   ]
  },
  {
   "cell_type": "code",
   "execution_count": 22,
   "metadata": {},
   "outputs": [
    {
     "data": {
      "text/plain": [
       "960.0"
      ]
     },
     "execution_count": 22,
     "metadata": {},
     "output_type": "execute_result"
    }
   ],
   "source": [
    "21120/22"
   ]
  },
  {
   "cell_type": "code",
   "execution_count": 2,
   "metadata": {},
   "outputs": [
    {
     "data": {
      "text/plain": [
       "0"
      ]
     },
     "execution_count": 2,
     "metadata": {},
     "output_type": "execute_result"
    }
   ],
   "source": [
    "torch.cuda.current_device()"
   ]
  }
 ],
 "metadata": {
  "kernelspec": {
   "display_name": "pytorch_gpu",
   "language": "python",
   "name": "python3"
  },
  "language_info": {
   "codemirror_mode": {
    "name": "ipython",
    "version": 3
   },
   "file_extension": ".py",
   "mimetype": "text/x-python",
   "name": "python",
   "nbconvert_exporter": "python",
   "pygments_lexer": "ipython3",
   "version": "3.7.11"
  },
  "orig_nbformat": 4
 },
 "nbformat": 4,
 "nbformat_minor": 2
}
